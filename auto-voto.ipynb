{
 "cells": [
  {
   "cell_type": "code",
   "execution_count": 2,
   "id": "9e38d4ca",
   "metadata": {},
   "outputs": [],
   "source": [
    "import pyautogui\n",
    "import time\n",
    "import pyperclip\n",
    "\n",
    "pyautogui.hotkey(\"ctrl\", \"t\") # nova aba\n",
    "pyperclip.copy(\"http...\") # site de votação\n",
    "pyautogui.hotkey(\"ctrl\", \"v\") # colar link\n",
    "pyautogui.press(\"enter\")# entrar no site\n",
    "\n",
    "#algoritmo de repetições\n",
    "max = 1  \n",
    "i = 0\n",
    "soma = 0 \n",
    " \n",
    "while i < max:\n",
    "\n",
    "    time.sleep(5)\n",
    "\n",
    "\n",
    "    pyautogui.click(x=1355, y=678) #local de clique\n",
    "    time.sleep(1)\n",
    "\n",
    "\n",
    "    pyautogui.click(x=571, y=236) #local de atualização\n",
    "    time.sleep(2)\n",
    "    pyautogui.click(x=557, y=379) #local de click\n",
    "    time.sleep(4)\n",
    "    pyautogui.click(x=83, y=49) #local de click\n",
    "    \n",
    "    soma += i\n",
    "    i += 1\n",
    "    #print(i) #printa a quantidade de repetições\n",
    "    "
   ]
  }
 ],
 "metadata": {
  "kernelspec": {
   "display_name": "Python 3 (ipykernel)",
   "language": "python",
   "name": "python3"
  },
  "language_info": {
   "codemirror_mode": {
    "name": "ipython",
    "version": 3
   },
   "file_extension": ".py",
   "mimetype": "text/x-python",
   "name": "python",
   "nbconvert_exporter": "python",
   "pygments_lexer": "ipython3",
   "version": "3.9.7"
  }
 },
 "nbformat": 4,
 "nbformat_minor": 5
}
